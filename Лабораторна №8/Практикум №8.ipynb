{
 "cells": [
  {
   "cell_type": "markdown",
   "metadata": {},
   "source": [
    "Практикум №8 <br> Дисципліна: Обробка та аналіз БМД <br> Студент: Збаровський Дмитро <br> Група: БС-81"
   ]
  },
  {
   "cell_type": "markdown",
   "metadata": {},
   "source": [
    "Завдання\n",
    "1. Розрахувати та вивести у вигляді таблиці статистичні характиристики даних (середні та стандартні відхилення для кожної з груп).\n",
    "2. Побудувати графік розкиду в групах.\n",
    "3. Побудувати функцію, що реалізовує однофакторний дисперсійний аналіз.\n",
    "4. Вивести результати розрахунку кожного з етапів вказаних вище у вигляді таблиці.\n",
    "5. Перевірити результат роботи функції на реальних або сгенерованих даних. Зробити висновок."
   ]
  },
  {
   "cell_type": "code",
   "execution_count": 248,
   "metadata": {},
   "outputs": [],
   "source": [
    "import numpy as np\n",
    "import seaborn as sns\n",
    "import pandas as pd\n",
    "import matplotlib.pyplot as plt"
   ]
  },
  {
   "cell_type": "code",
   "execution_count": 249,
   "metadata": {},
   "outputs": [
    {
     "data": {
      "text/html": [
       "<div>\n",
       "<style scoped>\n",
       "    .dataframe tbody tr th:only-of-type {\n",
       "        vertical-align: middle;\n",
       "    }\n",
       "\n",
       "    .dataframe tbody tr th {\n",
       "        vertical-align: top;\n",
       "    }\n",
       "\n",
       "    .dataframe thead th {\n",
       "        text-align: right;\n",
       "    }\n",
       "</style>\n",
       "<table border=\"1\" class=\"dataframe\">\n",
       "  <thead>\n",
       "    <tr style=\"text-align: right;\">\n",
       "      <th></th>\n",
       "      <th>Group 1</th>\n",
       "      <th>Group 2</th>\n",
       "      <th>Group 3</th>\n",
       "    </tr>\n",
       "  </thead>\n",
       "  <tbody>\n",
       "    <tr>\n",
       "      <th>0</th>\n",
       "      <td>3</td>\n",
       "      <td>38</td>\n",
       "      <td>57</td>\n",
       "    </tr>\n",
       "    <tr>\n",
       "      <th>1</th>\n",
       "      <td>6</td>\n",
       "      <td>15</td>\n",
       "      <td>1</td>\n",
       "    </tr>\n",
       "    <tr>\n",
       "      <th>2</th>\n",
       "      <td>2</td>\n",
       "      <td>5</td>\n",
       "      <td>6</td>\n",
       "    </tr>\n",
       "    <tr>\n",
       "      <th>3</th>\n",
       "      <td>7</td>\n",
       "      <td>77</td>\n",
       "      <td>8</td>\n",
       "    </tr>\n",
       "    <tr>\n",
       "      <th>4</th>\n",
       "      <td>5</td>\n",
       "      <td>13</td>\n",
       "      <td>29</td>\n",
       "    </tr>\n",
       "    <tr>\n",
       "      <th>5</th>\n",
       "      <td>1</td>\n",
       "      <td>45</td>\n",
       "      <td>5</td>\n",
       "    </tr>\n",
       "    <tr>\n",
       "      <th>6</th>\n",
       "      <td>1</td>\n",
       "      <td>57</td>\n",
       "      <td>8</td>\n",
       "    </tr>\n",
       "  </tbody>\n",
       "</table>\n",
       "</div>"
      ],
      "text/plain": [
       "   Group 1  Group 2  Group 3\n",
       "0        3       38       57\n",
       "1        6       15        1\n",
       "2        2        5        6\n",
       "3        7       77        8\n",
       "4        5       13       29\n",
       "5        1       45        5\n",
       "6        1       57        8"
      ]
     },
     "execution_count": 249,
     "metadata": {},
     "output_type": "execute_result"
    }
   ],
   "source": [
    "data = pd.DataFrame({\n",
    "    \"Group 1\": [3,6,2,7,5,1,1],\n",
    "    \"Group 2\": [38,15,5,77,13,45,57],\n",
    "    \"Group 3\": [57,1,6,8,29,5,8],\n",
    "})\n",
    "data"
   ]
  },
  {
   "cell_type": "markdown",
   "metadata": {},
   "source": [
    "Розрахувати та вивести у вигляді таблиці статистичні характиристики даних (середні та стандартні відхилення для кожної з груп)."
   ]
  },
  {
   "cell_type": "code",
   "execution_count": 254,
   "metadata": {},
   "outputs": [
    {
     "data": {
      "text/html": [
       "<div>\n",
       "<style scoped>\n",
       "    .dataframe tbody tr th:only-of-type {\n",
       "        vertical-align: middle;\n",
       "    }\n",
       "\n",
       "    .dataframe tbody tr th {\n",
       "        vertical-align: top;\n",
       "    }\n",
       "\n",
       "    .dataframe thead th {\n",
       "        text-align: right;\n",
       "    }\n",
       "</style>\n",
       "<table border=\"1\" class=\"dataframe\">\n",
       "  <thead>\n",
       "    <tr style=\"text-align: right;\">\n",
       "      <th></th>\n",
       "      <th>Group 1</th>\n",
       "      <th>Group 2</th>\n",
       "      <th>Group 3</th>\n",
       "    </tr>\n",
       "  </thead>\n",
       "  <tbody>\n",
       "    <tr>\n",
       "      <th>Cереднє груп</th>\n",
       "      <td>3.571429</td>\n",
       "      <td>35.714286</td>\n",
       "      <td>16.285714</td>\n",
       "    </tr>\n",
       "    <tr>\n",
       "      <th>Стандартні відхилення груп</th>\n",
       "      <td>2.258770</td>\n",
       "      <td>24.311751</td>\n",
       "      <td>18.606560</td>\n",
       "    </tr>\n",
       "  </tbody>\n",
       "</table>\n",
       "</div>"
      ],
      "text/plain": [
       "                             Group 1    Group 2    Group 3\n",
       "Cереднє груп                3.571429  35.714286  16.285714\n",
       "Стандартні відхилення груп  2.258770  24.311751  18.606560"
      ]
     },
     "execution_count": 254,
     "metadata": {},
     "output_type": "execute_result"
    }
   ],
   "source": [
    "table = pd.DataFrame({},index=[\"Cереднє груп\",\"Стандартні відхилення груп\"])\n",
    "for i in range(len(data.columns)):\n",
    "    table[\"Group \" +str(i+1)] = [np.mean(data.iloc[:,i]),np.std(data.iloc[:,i])]\n",
    "table"
   ]
  },
  {
   "cell_type": "markdown",
   "metadata": {},
   "source": [
    "Побудувати графік розкиду в групах"
   ]
  },
  {
   "cell_type": "code",
   "execution_count": 251,
   "metadata": {},
   "outputs": [
    {
     "data": {
      "image/png": "[encoded data removed]",
      "text/plain": [
       "<Figure size 864x360 with 1 Axes>"
      ]
     },
     "metadata": {
      "needs_background": "light"
     },
     "output_type": "display_data"
    }
   ],
   "source": [
    "fig, ax = plt.subplots(figsize=(12,5))\n",
    "fig =  sns.boxplot(orient = \"h\",data = data, palette=\"pastel\")"
   ]
  },
  {
   "cell_type": "markdown",
   "metadata": {},
   "source": [
    "Побудувати функцію, що реалізовує однофакторний дисперсійний аналіз."
   ]
  },
  {
   "cell_type": "code",
   "execution_count": 252,
   "metadata": {},
   "outputs": [],
   "source": [
    "def dispersia(data):\n",
    "    n = data.shape[0]\n",
    "    T1 = sum(data.iloc[:,0])\n",
    "    T2 = sum(data.iloc[:,1])\n",
    "    T3 = sum(data.iloc[:,2])\n",
    "    xi2 = 0\n",
    "    sumxi = 0\n",
    "    \n",
    "    c = data.shape[1]\n",
    "    N = n * c\n",
    "    Tsum2 = pow(T1, 2) + pow(T2, 2) + pow(T3, 2)\n",
    "\n",
    "    dfact = c - 1 \n",
    "    dzagal = N - 1\n",
    "    \n",
    "    sumXi2 = (T1 + T2 + T3) ** 2\n",
    "    const = sumXi2 / N\n",
    "    SSfact = Tsum2 / n - const\n",
    "    \n",
    "    for i in range (c):\n",
    "        for j in range(len(data.iloc[:,i-1])):\n",
    "            sumxi += (data.iloc[j][i])**2\n",
    "            \n",
    "    SSzagal = sumxi - const\n",
    "    SSvipadk = SSzagal - SSfact\n",
    "    dvipadk = dzagal - dfact\n",
    "    MSfact = SSfact / dfact\n",
    "    MSvipadk = SSvipadk / dvipadk\n",
    "    \n",
    "    Femp = MSfact / MSvipadk\n",
    "    Fkrit = pd.read_excel(\"Fisher.xlsx\").iloc[dvipadk,dfact]\n",
    "    \n",
    "    print(\"SSфакт \", SSfact)\n",
    "    print(\"SSзаг  \", SSzagal)\n",
    "    print(\"SSвип  \", SSvipadk)\n",
    "    print(\"dфакт  \", dfact)\n",
    "    print(\"dзаг   \", dzagal)\n",
    "    print(\"dвип   \", dvipadk)\n",
    "    print(\"MSфакт \", MSfact)\n",
    "    print(\"MSвип  \", MSvipadk)\n",
    "    print(\"Fемпір \", Femp)\n",
    "    print(\"Fкрит  \", Fkrit)\n",
    "    \n",
    "    if(Femp >= Fkrit):\n",
    "        result = \"Нульова гіпотеза про рівність середніх відхиляється, рівність середніх не підтверджена\"\n",
    "    else:\n",
    "        result = \"Нульова гіпотеза про рівність середніх приймається, рівність середніх підтверджена\"\n",
    "    return result"
   ]
  },
  {
   "cell_type": "markdown",
   "metadata": {},
   "source": [
    "Вивести результати розрахунку кожного з етапів вказаних вище у вигляді таблиці.<br>\n",
    "Перевірити результат роботи функції на реальних або сгенерованих даних. Зробити висновок."
   ]
  },
  {
   "cell_type": "code",
   "execution_count": 253,
   "metadata": {},
   "outputs": [
    {
     "name": "stdout",
     "output_type": "stream",
     "text": [
      "SSфакт  3668.666666666666\n",
      "SSзаг   10265.238095238095\n",
      "SSвип   6596.571428571429\n",
      "dфакт   2\n",
      "dзаг    20\n",
      "dвип    18\n",
      "MSфакт  1834.333333333333\n",
      "MSвип   366.47619047619054\n",
      "Fемпір  5.005327442827441\n",
      "Fкрит   3.5\n"
     ]
    },
    {
     "data": {
      "text/plain": [
       "'Нульова гіпотеза про рівність середніх відхиляється, рівність середніх не підтверджена'"
      ]
     },
     "execution_count": 253,
     "metadata": {},
     "output_type": "execute_result"
    }
   ],
   "source": [
    "dispersia(data)"
   ]
  },
  {
   "cell_type": "code",
   "execution_count": null,
   "metadata": {},
   "outputs": [],
   "source": []
  }
 ],
 "metadata": {
  "kernelspec": {
   "display_name": "Python 3",
   "language": "python",
   "name": "python3"
  },
  "language_info": {
   "codemirror_mode": {
    "name": "ipython",
    "version": 3
   },
   "file_extension": ".py",
   "mimetype": "text/x-python",
   "name": "python",
   "nbconvert_exporter": "python",
   "pygments_lexer": "ipython3",
   "version": "3.8.2"
  }
 },
 "nbformat": 4,
 "nbformat_minor": 4
}
